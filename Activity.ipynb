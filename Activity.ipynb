{
 "cells": [
  {
   "cell_type": "markdown",
   "id": "d7abf19a",
   "metadata": {},
   "source": [
    "# **Playing With Matrices Activity**"
   ]
  },
  {
   "cell_type": "code",
   "execution_count": 1,
   "id": "a3fab6d8",
   "metadata": {},
   "outputs": [],
   "source": [
    "#Importing Libraries\n",
    "import numpy as np\n",
    "import math as m\n",
    "import matplotlib.pyplot as plt\n",
    "import cv2"
   ]
  },
  {
   "cell_type": "code",
   "execution_count": 4,
   "id": "ed2ae3f0",
   "metadata": {},
   "outputs": [],
   "source": [
    "image = plt.imread('images/blur.jpeg')"
   ]
  },
  {
   "cell_type": "markdown",
   "id": "e61901da",
   "metadata": {},
   "source": [
    "## **1)** a) Creating a filled-square in an image:\n",
    "> In this task we will have to take the length, breath of the square and coordinates of the top left pixel of the square as an input from the user. A filled square of the given coordinates and dimensions should be created in the image.\n",
    "\n",
    "|  |  |\n",
    "|:----:|:----:|\n",
    "|**INPUT IMAGE** | **OUTPUT IMAGE**|\n",
    "|![](./images/blur.jpeg)|!![](./images/blur_square.png)|"
   ]
  },
  {
   "cell_type": "code",
   "execution_count": 5,
   "id": "42d1f150",
   "metadata": {},
   "outputs": [],
   "source": [
    "# Given length, breadth and top left location (row, col) draw a rectangle of the specified dimensions\n",
    "\n",
    "row, col = 100, 100\n",
    "l, b = 100, 100\n",
    "image1 = np.copy(image)\n",
    "\n"
   ]
  },
  {
   "cell_type": "markdown",
   "id": "93d95f7b",
   "metadata": {},
   "source": [
    "## b) Creating a filled-circle in an image:\n",
    "> In this task we will have to take the radius and coordinates of the center of the circle as an input from the user. A filled circle of the given coordinates and dimensions should be created in the image.\n",
    "\n",
    "|  |  |\n",
    "|:----:|:----:|\n",
    "|**INPUT IMAGE** | **OUTPUT IMAGE**|\n",
    "|![](./images/blur.jpeg)|![](./images/blur_circle.png)|"
   ]
  },
  {
   "cell_type": "code",
   "execution_count": 6,
   "id": "78bc151f",
   "metadata": {},
   "outputs": [],
   "source": [
    "row, col = 100, 100\n",
    "r = 70\n",
    "image2 = np.copy(image)\n"
   ]
  },
  {
   "cell_type": "markdown",
   "id": "3698f58d",
   "metadata": {},
   "source": [
    "## **2)** a) Creating a hollow square in an image \n",
    "> In this Sub-task we will have to take the length, breadth, thickness of the border of the square and coordinates of the top left pixel of the square as an input from the user. A hollow square of the given coordinates and dimensions should be created in the image.\n",
    "\n",
    "|  |  |\n",
    "|:----:|:----:|\n",
    "|**INPUT IMAGE** | **OUTPUT IMAGE**|\n",
    "|![](./images/blur.jpeg)|![](./images/blur_hollow_sqaure.png)|"
   ]
  },
  {
   "cell_type": "code",
   "execution_count": 7,
   "id": "3fa859e6",
   "metadata": {},
   "outputs": [],
   "source": [
    "row, col = 100, 100\n",
    "image3 = np.copy(image)\n",
    "w = 5\n"
   ]
  },
  {
   "cell_type": "markdown",
   "id": "444cb1a9",
   "metadata": {},
   "source": [
    "* **b)** Creating a hollow circle in an image\n",
    "> In this task we will have to take the radius and coordinates of the center of the circle and also the thickness of the border as an input from the user. A hollow circle of the given coordinates and dimensions should be created in the image.\n",
    "\n",
    "|  |  |\n",
    "|:----:|:----:|\n",
    "|**INPUT IMAGE** | **OUTPUT IMAGE**|\n",
    "|![](./images/blur.jpeg)|![](./images/blur_hollow_circle.png)|"
   ]
  },
  {
   "cell_type": "code",
   "execution_count": 9,
   "id": "eb982e99",
   "metadata": {},
   "outputs": [],
   "source": [
    "r = 50\n",
    "w = 1\n",
    "row, col = 120, 120 \n",
    "image4 = np.copy(image)\n",
    "\n"
   ]
  },
  {
   "cell_type": "code",
   "execution_count": null,
   "id": "4d6e8026",
   "metadata": {},
   "outputs": [],
   "source": []
  }
 ],
 "metadata": {
  "kernelspec": {
   "display_name": "Python 3 (ipykernel)",
   "language": "python",
   "name": "python3"
  },
  "language_info": {
   "codemirror_mode": {
    "name": "ipython",
    "version": 3
   },
   "file_extension": ".py",
   "mimetype": "text/x-python",
   "name": "python",
   "nbconvert_exporter": "python",
   "pygments_lexer": "ipython3",
   "version": "3.8.10"
  }
 },
 "nbformat": 4,
 "nbformat_minor": 5
}
