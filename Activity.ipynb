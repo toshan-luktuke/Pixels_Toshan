{
 "cells": [
  {
   "cell_type": "markdown",
   "id": "d7abf19a",
   "metadata": {},
   "source": [
    "# **Playing With Matrices Activity**"
   ]
  },
  {
   "cell_type": "code",
   "execution_count": 1,
   "id": "a3fab6d8",
   "metadata": {},
   "outputs": [],
   "source": [
    "#Importing Libraries\n",
    "import numpy as np\n",
    "import math as m\n",
    "import matplotlib.pyplot as plt"
   ]
  },
  {
   "cell_type": "code",
   "execution_count": 3,
   "id": "ed2ae3f0",
   "metadata": {},
   "outputs": [],
   "source": [
    "image = plt.imread('images/blur.jpeg') # Reads the image from the File"
   ]
  },
  {
   "cell_type": "markdown",
   "id": "e61901da",
   "metadata": {},
   "source": [
    "## 1) Creating a filled rectangle in an image:\n",
    "> In this task we will have to take the length, breath of the rectangle and coordinates of the top left pixel of the rectangle as an input from the user. A filled rectangle of the given coordinates and dimensions should be created in the image.\n",
    "\n",
    "|  |  |\n",
    "|:----:|:----:|\n",
    "|**INPUT IMAGE** | **OUTPUT IMAGE**|\n",
    "|![](./images/blur.jpeg)|!![](./images/blur_square.png)|"
   ]
  },
  {
   "cell_type": "code",
   "execution_count": 5,
   "id": "42d1f150",
   "metadata": {},
   "outputs": [],
   "source": [
    "row, col = 100, 100 # Draw a square starting at these co-ords (top-left)\n",
    "l, b = 100, 100 \n",
    "image1 = np.copy(image)\n",
    "\n"
   ]
  },
  {
   "cell_type": "markdown",
   "id": "56edf5b5",
   "metadata": {},
   "source": [
    "## **2)**  Creating a hollow rectangle in an image \n",
    "> In this Sub-task we will have to take the length, breadth, thickness of the border of the rectangle and coordinates of the top left pixel of the rectangle as an input from the user. A hollow rectangle of the given coordinates and dimensions should be created in the image.\n",
    "\n",
    "|  |  |\n",
    "|:----:|:----:|\n",
    "|**INPUT IMAGE** | **OUTPUT IMAGE**|\n",
    "|![](./images/blur.jpeg)|![](./images/blur_hollow_sqaure.png)|"
   ]
  },
  {
   "cell_type": "code",
   "execution_count": 6,
   "id": "78bc151f",
   "metadata": {},
   "outputs": [],
   "source": [
    "row, col = 100, 100 # Draw a hollow square starting at these co-ords (top-left)\n",
    "t = 2 # Thickness in pixels of the hollow rectangle (can be any no.)\n",
    "\n",
    "# Give the length and breadth as you wish\n",
    "image2 = np.copy(image)\n"
   ]
  },
  {
   "cell_type": "markdown",
   "id": "37e8d9f8",
   "metadata": {},
   "source": [
    "## 3) Creating a filled-circle in an image:\n",
    "> In this task we will have to take the radius and coordinates of the center of the circle as an input from the user. A filled circle of the given coordinates and dimensions should be created in the image.\n",
    "\n",
    "|  |  |\n",
    "|:----:|:----:|\n",
    "|**INPUT IMAGE** | **OUTPUT IMAGE**|\n",
    "|![](./images/blur.jpeg)|![](./images/blur_circle.png)|"
   ]
  },
  {
   "cell_type": "code",
   "execution_count": 7,
   "id": "3fa859e6",
   "metadata": {},
   "outputs": [],
   "source": [
    "row, col = int(image.shape[0]/2), int(image.shape[0]/2) # Draw the circle centered at these co-ords\n",
    "r = 70 # Radius of the circle (can be any no.)\n",
    "image3 = np.copy(image)\n",
    "\n"
   ]
  },
  {
   "cell_type": "markdown",
   "id": "444cb1a9",
   "metadata": {},
   "source": [
    "## **4)** Creating a hollow circle in an image\n",
    "> In this task we will have to take the radius and coordinates of the center of the circle and also the thickness of the border as an input from the user. A hollow circle of the given coordinates and dimensions should be created in the image.\n",
    "\n",
    "|  |  |\n",
    "|:----:|:----:|\n",
    "|**INPUT IMAGE** | **OUTPUT IMAGE**|\n",
    "|![](./images/blur.jpeg)|![](./images/blur_hollow_circle.png)|"
   ]
  },
  {
   "cell_type": "code",
   "execution_count": 4,
   "id": "eb982e99",
   "metadata": {},
   "outputs": [],
   "source": [
    "row, col = int(image.shape[0]/2), int(image.shape[0]/2) # Draw the circle centered at these co-ords\n",
    "r = 50 # Radius of the circle\n",
    "t = 2 # Thickness of the hollow circle\n",
    "image4 = np.copy(image)\n",
    "\n"
   ]
  },
  {
   "cell_type": "code",
   "execution_count": null,
   "id": "4d6e8026",
   "metadata": {},
   "outputs": [],
   "source": []
  }
 ],
 "metadata": {
  "kernelspec": {
   "display_name": "Python 3 (ipykernel)",
   "language": "python",
   "name": "python3"
  },
  "language_info": {
   "codemirror_mode": {
    "name": "ipython",
    "version": 3
   },
   "file_extension": ".py",
   "mimetype": "text/x-python",
   "name": "python",
   "nbconvert_exporter": "python",
   "pygments_lexer": "ipython3",
   "version": "3.8.10"
  }
 },
 "nbformat": 4,
 "nbformat_minor": 5
}
